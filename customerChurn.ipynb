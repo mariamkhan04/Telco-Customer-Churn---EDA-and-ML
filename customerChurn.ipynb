{
 "cells": [
  {
   "cell_type": "markdown",
   "id": "e9795db9",
   "metadata": {},
   "source": [
    "**PROJECT: TELCO CUSTOMER CHURN ANALYSIS**"
   ]
  },
  {
   "cell_type": "markdown",
   "id": "ac1c5c8a",
   "metadata": {},
   "source": [
    "**Import Libraries**"
   ]
  },
  {
   "cell_type": "code",
   "execution_count": 210,
   "id": "66c7abda",
   "metadata": {},
   "outputs": [],
   "source": [
    "import pandas as pd\n",
    "import numpy as np\n",
    "import matplotlib.pyplot as plt\n",
    "import seaborn as sns"
   ]
  },
  {
   "cell_type": "markdown",
   "id": "8cf9d127",
   "metadata": {},
   "source": [
    "**Data Exploration**"
   ]
  },
  {
   "cell_type": "code",
   "execution_count": 211,
   "id": "32109ebd",
   "metadata": {},
   "outputs": [
    {
     "data": {
      "text/html": [
       "<div>\n",
       "<style scoped>\n",
       "    .dataframe tbody tr th:only-of-type {\n",
       "        vertical-align: middle;\n",
       "    }\n",
       "\n",
       "    .dataframe tbody tr th {\n",
       "        vertical-align: top;\n",
       "    }\n",
       "\n",
       "    .dataframe thead th {\n",
       "        text-align: right;\n",
       "    }\n",
       "</style>\n",
       "<table border=\"1\" class=\"dataframe\">\n",
       "  <thead>\n",
       "    <tr style=\"text-align: right;\">\n",
       "      <th></th>\n",
       "      <th>CustomerID</th>\n",
       "      <th>Count</th>\n",
       "      <th>Country</th>\n",
       "      <th>State</th>\n",
       "      <th>City</th>\n",
       "      <th>Zip Code</th>\n",
       "      <th>Lat Long</th>\n",
       "      <th>Latitude</th>\n",
       "      <th>Longitude</th>\n",
       "      <th>Gender</th>\n",
       "      <th>...</th>\n",
       "      <th>Contract</th>\n",
       "      <th>Paperless Billing</th>\n",
       "      <th>Payment Method</th>\n",
       "      <th>Monthly Charges</th>\n",
       "      <th>Total Charges</th>\n",
       "      <th>Churn Label</th>\n",
       "      <th>Churn Value</th>\n",
       "      <th>Churn Score</th>\n",
       "      <th>CLTV</th>\n",
       "      <th>Churn Reason</th>\n",
       "    </tr>\n",
       "  </thead>\n",
       "  <tbody>\n",
       "    <tr>\n",
       "      <th>0</th>\n",
       "      <td>3668-QPYBK</td>\n",
       "      <td>1</td>\n",
       "      <td>United States</td>\n",
       "      <td>California</td>\n",
       "      <td>Los Angeles</td>\n",
       "      <td>90003</td>\n",
       "      <td>33.964131, -118.272783</td>\n",
       "      <td>33.964131</td>\n",
       "      <td>-118.272783</td>\n",
       "      <td>Male</td>\n",
       "      <td>...</td>\n",
       "      <td>Month-to-month</td>\n",
       "      <td>Yes</td>\n",
       "      <td>Mailed check</td>\n",
       "      <td>53.85</td>\n",
       "      <td>108.15</td>\n",
       "      <td>Yes</td>\n",
       "      <td>1</td>\n",
       "      <td>86</td>\n",
       "      <td>3239</td>\n",
       "      <td>Competitor made better offer</td>\n",
       "    </tr>\n",
       "    <tr>\n",
       "      <th>1</th>\n",
       "      <td>9237-HQITU</td>\n",
       "      <td>1</td>\n",
       "      <td>United States</td>\n",
       "      <td>California</td>\n",
       "      <td>Los Angeles</td>\n",
       "      <td>90005</td>\n",
       "      <td>34.059281, -118.30742</td>\n",
       "      <td>34.059281</td>\n",
       "      <td>-118.307420</td>\n",
       "      <td>Female</td>\n",
       "      <td>...</td>\n",
       "      <td>Month-to-month</td>\n",
       "      <td>Yes</td>\n",
       "      <td>Electronic check</td>\n",
       "      <td>70.70</td>\n",
       "      <td>151.65</td>\n",
       "      <td>Yes</td>\n",
       "      <td>1</td>\n",
       "      <td>67</td>\n",
       "      <td>2701</td>\n",
       "      <td>Moved</td>\n",
       "    </tr>\n",
       "    <tr>\n",
       "      <th>2</th>\n",
       "      <td>9305-CDSKC</td>\n",
       "      <td>1</td>\n",
       "      <td>United States</td>\n",
       "      <td>California</td>\n",
       "      <td>Los Angeles</td>\n",
       "      <td>90006</td>\n",
       "      <td>34.048013, -118.293953</td>\n",
       "      <td>34.048013</td>\n",
       "      <td>-118.293953</td>\n",
       "      <td>Female</td>\n",
       "      <td>...</td>\n",
       "      <td>Month-to-month</td>\n",
       "      <td>Yes</td>\n",
       "      <td>Electronic check</td>\n",
       "      <td>99.65</td>\n",
       "      <td>820.5</td>\n",
       "      <td>Yes</td>\n",
       "      <td>1</td>\n",
       "      <td>86</td>\n",
       "      <td>5372</td>\n",
       "      <td>Moved</td>\n",
       "    </tr>\n",
       "    <tr>\n",
       "      <th>3</th>\n",
       "      <td>7892-POOKP</td>\n",
       "      <td>1</td>\n",
       "      <td>United States</td>\n",
       "      <td>California</td>\n",
       "      <td>Los Angeles</td>\n",
       "      <td>90010</td>\n",
       "      <td>34.062125, -118.315709</td>\n",
       "      <td>34.062125</td>\n",
       "      <td>-118.315709</td>\n",
       "      <td>Female</td>\n",
       "      <td>...</td>\n",
       "      <td>Month-to-month</td>\n",
       "      <td>Yes</td>\n",
       "      <td>Electronic check</td>\n",
       "      <td>104.80</td>\n",
       "      <td>3046.05</td>\n",
       "      <td>Yes</td>\n",
       "      <td>1</td>\n",
       "      <td>84</td>\n",
       "      <td>5003</td>\n",
       "      <td>Moved</td>\n",
       "    </tr>\n",
       "    <tr>\n",
       "      <th>4</th>\n",
       "      <td>0280-XJGEX</td>\n",
       "      <td>1</td>\n",
       "      <td>United States</td>\n",
       "      <td>California</td>\n",
       "      <td>Los Angeles</td>\n",
       "      <td>90015</td>\n",
       "      <td>34.039224, -118.266293</td>\n",
       "      <td>34.039224</td>\n",
       "      <td>-118.266293</td>\n",
       "      <td>Male</td>\n",
       "      <td>...</td>\n",
       "      <td>Month-to-month</td>\n",
       "      <td>Yes</td>\n",
       "      <td>Bank transfer (automatic)</td>\n",
       "      <td>103.70</td>\n",
       "      <td>5036.3</td>\n",
       "      <td>Yes</td>\n",
       "      <td>1</td>\n",
       "      <td>89</td>\n",
       "      <td>5340</td>\n",
       "      <td>Competitor had better devices</td>\n",
       "    </tr>\n",
       "  </tbody>\n",
       "</table>\n",
       "<p>5 rows × 33 columns</p>\n",
       "</div>"
      ],
      "text/plain": [
       "   CustomerID  Count        Country       State         City  Zip Code  \\\n",
       "0  3668-QPYBK      1  United States  California  Los Angeles     90003   \n",
       "1  9237-HQITU      1  United States  California  Los Angeles     90005   \n",
       "2  9305-CDSKC      1  United States  California  Los Angeles     90006   \n",
       "3  7892-POOKP      1  United States  California  Los Angeles     90010   \n",
       "4  0280-XJGEX      1  United States  California  Los Angeles     90015   \n",
       "\n",
       "                 Lat Long   Latitude   Longitude  Gender  ...        Contract  \\\n",
       "0  33.964131, -118.272783  33.964131 -118.272783    Male  ...  Month-to-month   \n",
       "1   34.059281, -118.30742  34.059281 -118.307420  Female  ...  Month-to-month   \n",
       "2  34.048013, -118.293953  34.048013 -118.293953  Female  ...  Month-to-month   \n",
       "3  34.062125, -118.315709  34.062125 -118.315709  Female  ...  Month-to-month   \n",
       "4  34.039224, -118.266293  34.039224 -118.266293    Male  ...  Month-to-month   \n",
       "\n",
       "  Paperless Billing             Payment Method  Monthly Charges Total Charges  \\\n",
       "0               Yes               Mailed check            53.85        108.15   \n",
       "1               Yes           Electronic check            70.70        151.65   \n",
       "2               Yes           Electronic check            99.65         820.5   \n",
       "3               Yes           Electronic check           104.80       3046.05   \n",
       "4               Yes  Bank transfer (automatic)           103.70        5036.3   \n",
       "\n",
       "  Churn Label Churn Value Churn Score  CLTV                   Churn Reason  \n",
       "0         Yes           1          86  3239   Competitor made better offer  \n",
       "1         Yes           1          67  2701                          Moved  \n",
       "2         Yes           1          86  5372                          Moved  \n",
       "3         Yes           1          84  5003                          Moved  \n",
       "4         Yes           1          89  5340  Competitor had better devices  \n",
       "\n",
       "[5 rows x 33 columns]"
      ]
     },
     "execution_count": 211,
     "metadata": {},
     "output_type": "execute_result"
    }
   ],
   "source": [
    "# load the Dataset\n",
    "customer_churn_df = pd.read_excel('src/Telco_customer_churn.xlsx')\n",
    "customer_churn_df.head()"
   ]
  },
  {
   "cell_type": "code",
   "execution_count": 212,
   "id": "a564b460",
   "metadata": {},
   "outputs": [],
   "source": [
    "customer_churn_df.columns = customer_churn_df.columns.str.replace(' ', '_')"
   ]
  },
  {
   "cell_type": "markdown",
   "id": "816cf7ec",
   "metadata": {},
   "source": [
    "**Dataset Overview**"
   ]
  },
  {
   "cell_type": "markdown",
   "id": "ec41de0c",
   "metadata": {},
   "source": [
    "**1. What is the total number of rows and columns in the dataset?**"
   ]
  },
  {
   "cell_type": "code",
   "execution_count": 213,
   "id": "c1283d94",
   "metadata": {},
   "outputs": [
    {
     "data": {
      "text/plain": [
       "(7043, 33)"
      ]
     },
     "execution_count": 213,
     "metadata": {},
     "output_type": "execute_result"
    }
   ],
   "source": [
    "customer_churn_df.shape"
   ]
  },
  {
   "cell_type": "markdown",
   "id": "5eaf1f19",
   "metadata": {},
   "source": [
    "- There are **33** columns and **7043** rows(entries) in this dataset."
   ]
  },
  {
   "cell_type": "markdown",
   "id": "32413b10",
   "metadata": {},
   "source": [
    "**2. What are the data types of each column?**"
   ]
  },
  {
   "cell_type": "code",
   "execution_count": 214,
   "id": "b5a8ea1f",
   "metadata": {},
   "outputs": [
    {
     "data": {
      "text/plain": [
       "CustomerID            object\n",
       "Count                  int64\n",
       "Country               object\n",
       "State                 object\n",
       "City                  object\n",
       "Zip_Code               int64\n",
       "Lat_Long              object\n",
       "Latitude             float64\n",
       "Longitude            float64\n",
       "Gender                object\n",
       "Senior_Citizen        object\n",
       "Partner               object\n",
       "Dependents            object\n",
       "Tenure_Months          int64\n",
       "Phone_Service         object\n",
       "Multiple_Lines        object\n",
       "Internet_Service      object\n",
       "Online_Security       object\n",
       "Online_Backup         object\n",
       "Device_Protection     object\n",
       "Tech_Support          object\n",
       "Streaming_TV          object\n",
       "Streaming_Movies      object\n",
       "Contract              object\n",
       "Paperless_Billing     object\n",
       "Payment_Method        object\n",
       "Monthly_Charges      float64\n",
       "Total_Charges         object\n",
       "Churn_Label           object\n",
       "Churn_Value            int64\n",
       "Churn_Score            int64\n",
       "CLTV                   int64\n",
       "Churn_Reason          object\n",
       "dtype: object"
      ]
     },
     "execution_count": 214,
     "metadata": {},
     "output_type": "execute_result"
    }
   ],
   "source": [
    "customer_churn_df.dtypes"
   ]
  },
  {
   "cell_type": "markdown",
   "id": "129149a0",
   "metadata": {},
   "source": [
    "**3. Which columns are categorical, numerical, or binary?**"
   ]
  },
  {
   "cell_type": "code",
   "execution_count": 215,
   "id": "195cc609",
   "metadata": {},
   "outputs": [
    {
     "name": "stdout",
     "output_type": "stream",
     "text": [
      "Numerical Columns:\n",
      " ['Count', 'Zip_Code', 'Latitude', 'Longitude', 'Tenure_Months', 'Monthly_Charges', 'Churn_Value', 'Churn_Score', 'CLTV']\n",
      "\n",
      "Categorical Columns:\n",
      " ['CustomerID', 'Country', 'State', 'City', 'Lat_Long', 'Gender', 'Senior_Citizen', 'Partner', 'Dependents', 'Phone_Service', 'Multiple_Lines', 'Internet_Service', 'Online_Security', 'Online_Backup', 'Device_Protection', 'Tech_Support', 'Streaming_TV', 'Streaming_Movies', 'Contract', 'Paperless_Billing', 'Payment_Method', 'Total_Charges', 'Churn_Label', 'Churn_Reason']\n",
      "\n",
      "Binary Columns:\n",
      " ['Gender', 'Senior_Citizen', 'Partner', 'Dependents', 'Phone_Service', 'Paperless_Billing', 'Churn_Label', 'Churn_Value']\n"
     ]
    }
   ],
   "source": [
    "numerical_columns = customer_churn_df.select_dtypes(include=['int64', 'float64']).columns.tolist()\n",
    "print(\"Numerical Columns:\\n\", numerical_columns)\n",
    "\n",
    "categorical_columns = customer_churn_df.select_dtypes(include=['object']).columns.tolist()\n",
    "print(\"\\nCategorical Columns:\\n\", categorical_columns)\n",
    "\n",
    "binary_columns = [col for col in customer_churn_df.columns if customer_churn_df[col].nunique() == 2]\n",
    "print(\"\\nBinary Columns:\\n\", binary_columns)"
   ]
  },
  {
   "cell_type": "markdown",
   "id": "718d5d16",
   "metadata": {},
   "source": [
    "**4. Are there irrelevant columns (e.g., customerID) that should be dropped?**"
   ]
  },
  {
   "cell_type": "code",
   "execution_count": 216,
   "id": "ab0197fc",
   "metadata": {},
   "outputs": [
    {
     "name": "stdout",
     "output_type": "stream",
     "text": [
      "\n",
      "Irrelevant column detected: CustomerID (likely to drop).\n"
     ]
    }
   ],
   "source": [
    "if \"CustomerID\" in customer_churn_df.columns:\n",
    "    print(\"\\nIrrelevant column detected: CustomerID (likely to drop).\")"
   ]
  },
  {
   "cell_type": "markdown",
   "id": "d2e008ec",
   "metadata": {},
   "source": [
    "**5. How many unique values are there in each categorical variable?**"
   ]
  },
  {
   "cell_type": "code",
   "execution_count": 217,
   "id": "e07b2235",
   "metadata": {},
   "outputs": [
    {
     "name": "stdout",
     "output_type": "stream",
     "text": [
      "Unique Value Counts for Categorical Columns:\n",
      " CustomerID           7043\n",
      "Total_Charges        6531\n",
      "Lat_Long             1652\n",
      "City                 1129\n",
      "Churn_Reason           20\n",
      "Payment_Method          4\n",
      "Internet_Service        3\n",
      "Device_Protection       3\n",
      "Streaming_Movies        3\n",
      "Contract                3\n",
      "Tech_Support            3\n",
      "Streaming_TV            3\n",
      "Online_Backup           3\n",
      "Multiple_Lines          3\n",
      "Online_Security         3\n",
      "Gender                  2\n",
      "Phone_Service           2\n",
      "Dependents              2\n",
      "Partner                 2\n",
      "Senior_Citizen          2\n",
      "Paperless_Billing       2\n",
      "Churn_Label             2\n",
      "Country                 1\n",
      "State                   1\n",
      "dtype: int64\n"
     ]
    }
   ],
   "source": [
    "unique_counts_cat = customer_churn_df[categorical_columns].nunique().sort_values(ascending=False)\n",
    "print(\"Unique Value Counts for Categorical Columns:\\n\",unique_counts_cat)"
   ]
  },
  {
   "cell_type": "markdown",
   "id": "500ab37e",
   "metadata": {},
   "source": [
    "**Data Quality Checks**"
   ]
  },
  {
   "cell_type": "markdown",
   "id": "9fd6fcfc",
   "metadata": {},
   "source": [
    "**1. Are there missing values in any column?**"
   ]
  },
  {
   "cell_type": "code",
   "execution_count": 218,
   "id": "f062b763",
   "metadata": {},
   "outputs": [
    {
     "name": "stdout",
     "output_type": "stream",
     "text": [
      "\n",
      "Missing Values in Each Column:\n"
     ]
    },
    {
     "data": {
      "text/plain": [
       "CustomerID              0\n",
       "Count                   0\n",
       "Country                 0\n",
       "State                   0\n",
       "City                    0\n",
       "Zip_Code                0\n",
       "Lat_Long                0\n",
       "Latitude                0\n",
       "Longitude               0\n",
       "Gender                  0\n",
       "Senior_Citizen          0\n",
       "Partner                 0\n",
       "Dependents              0\n",
       "Tenure_Months           0\n",
       "Phone_Service           0\n",
       "Multiple_Lines          0\n",
       "Internet_Service        0\n",
       "Online_Security         0\n",
       "Online_Backup           0\n",
       "Device_Protection       0\n",
       "Tech_Support            0\n",
       "Streaming_TV            0\n",
       "Streaming_Movies        0\n",
       "Contract                0\n",
       "Paperless_Billing       0\n",
       "Payment_Method          0\n",
       "Monthly_Charges         0\n",
       "Total_Charges           0\n",
       "Churn_Label             0\n",
       "Churn_Value             0\n",
       "Churn_Score             0\n",
       "CLTV                    0\n",
       "Churn_Reason         5174\n",
       "dtype: int64"
      ]
     },
     "execution_count": 218,
     "metadata": {},
     "output_type": "execute_result"
    }
   ],
   "source": [
    "print(\"\\nMissing Values in Each Column:\")\n",
    "customer_churn_df.isnull().sum()"
   ]
  },
  {
   "cell_type": "markdown",
   "id": "6d77c8e6",
   "metadata": {},
   "source": [
    "- There are **5174** missing values out of **7043** entries in **Churn_Reason** column."
   ]
  },
  {
   "cell_type": "markdown",
   "id": "860babf4",
   "metadata": {},
   "source": [
    "**2. Are there blank spaces stored as empty strings?**"
   ]
  },
  {
   "cell_type": "code",
   "execution_count": 219,
   "id": "e2337404",
   "metadata": {},
   "outputs": [
    {
     "name": "stdout",
     "output_type": "stream",
     "text": [
      "\n",
      "Blank Values in Each Column:\n",
      " Total_Charges    11\n",
      "dtype: int64\n"
     ]
    }
   ],
   "source": [
    "blank_counts = (customer_churn_df.astype(str).apply(lambda x: x.str.strip().eq('').sum()))\n",
    "print(\"\\nBlank Values in Each Column:\\n\", blank_counts[blank_counts > 0])"
   ]
  },
  {
   "cell_type": "markdown",
   "id": "71573a13",
   "metadata": {},
   "source": [
    "- Only **Total_Charges** column has **11** blank spaces stored as empty strings."
   ]
  },
  {
   "cell_type": "markdown",
   "id": "3331aae2",
   "metadata": {},
   "source": [
    "**3. Does TotalCharges contain non-numeric values?**"
   ]
  },
  {
   "cell_type": "code",
   "execution_count": 220,
   "id": "5111b044",
   "metadata": {},
   "outputs": [
    {
     "name": "stdout",
     "output_type": "stream",
     "text": [
      "\n",
      "Data Type of 'Total Charges': object\n",
      "Non-numeric/missing after conversion: 11\n",
      "\n",
      "Problematic values:\n",
      "[' ']\n"
     ]
    }
   ],
   "source": [
    "# checking column type\n",
    "print(\"\\nData Type of 'Total Charges':\", customer_churn_df['Total_Charges'].dtype)\n",
    "\n",
    "# converting to numeric\n",
    "customer_churn_df['TotalCharges_numeric'] = pd.to_numeric(customer_churn_df['Total_Charges'], errors='coerce')\n",
    "\n",
    "# Reporting how many values failed conversion\n",
    "n_coerced = customer_churn_df['TotalCharges_numeric'].isna().sum()\n",
    "print(f\"Non-numeric/missing after conversion: {n_coerced}\")\n",
    "\n",
    "# If any coercion happened, display them\n",
    "if n_coerced > 0:\n",
    "    print(\"\\nProblematic values:\")\n",
    "    print(customer_churn_df.loc[customer_churn_df['TotalCharges_numeric'].isna(), 'Total_Charges'].unique())"
   ]
  },
  {
   "cell_type": "markdown",
   "id": "8bca4e52",
   "metadata": {},
   "source": [
    "- Yes. **Total_Charges** column contains **11** non-numeric entries, which are stored as **blank spaces (' ')**."
   ]
  },
  {
   "cell_type": "markdown",
   "id": "660706f1",
   "metadata": {},
   "source": [
    "**4. Are there duplicate customerID entries?**"
   ]
  },
  {
   "cell_type": "code",
   "execution_count": 221,
   "id": "3ce9a3e3",
   "metadata": {},
   "outputs": [
    {
     "name": "stdout",
     "output_type": "stream",
     "text": [
      "Number of duplicate CustomerID entries: 0\n"
     ]
    }
   ],
   "source": [
    "dup_cust_id_count = customer_churn_df['CustomerID'].duplicated().sum()\n",
    "print(\"Number of duplicate CustomerID entries:\", dup_cust_id_count)"
   ]
  },
  {
   "cell_type": "markdown",
   "id": "6de68739",
   "metadata": {},
   "source": [
    "- No, there are **0** duplicate entries in CustomerID col."
   ]
  },
  {
   "cell_type": "markdown",
   "id": "877148fd",
   "metadata": {},
   "source": [
    "**5. Is TotalCharges approximately equal to MonthlyCharges × tenure? (Sanity Check)**"
   ]
  },
  {
   "cell_type": "code",
   "execution_count": 222,
   "id": "20477f4e",
   "metadata": {},
   "outputs": [
    {
     "name": "stdout",
     "output_type": "stream",
     "text": [
      "Distribution of Differences:\n"
     ]
    },
    {
     "data": {
      "text/plain": [
       "count    7032.000000\n",
       "mean       45.089157\n",
       "std        49.899711\n",
       "min         0.000000\n",
       "25%         9.437500\n",
       "50%        28.650000\n",
       "75%        63.700000\n",
       "max       373.250000\n",
       "Name: total_diff, dtype: float64"
      ]
     },
     "execution_count": 222,
     "metadata": {},
     "output_type": "execute_result"
    }
   ],
   "source": [
    "customer_churn_df['calc_total'] = customer_churn_df['Monthly_Charges'] * customer_churn_df['Tenure_Months']\n",
    "customer_churn_df['total_diff'] = (customer_churn_df[\"TotalCharges_numeric\"] - customer_churn_df['calc_total']).abs()\n",
    "\n",
    "print(\"Distribution of Differences:\")\n",
    "customer_churn_df['total_diff'].describe()\n"
   ]
  },
  {
   "cell_type": "markdown",
   "id": "03730594",
   "metadata": {},
   "source": [
    "- **Sanity Check:**\n",
    "I compared Total_Charges with Monthly_Charges × Tenure_Months. The values are **approximately related but not exactly equal**. The **average difference** is about **45 units**, with **most customers showing differences under 64 units**. This indicates that while Total_Charges is generally proportional to Monthly_Charges and Tenure_Months, it may also include other billing adjustments (e.g., taxes, partial months, or additional services)."
   ]
  },
  {
   "cell_type": "markdown",
   "id": "881eb7fe",
   "metadata": {},
   "source": [
    "**Data Cleaning and Preparation**"
   ]
  },
  {
   "cell_type": "code",
   "execution_count": 223,
   "id": "f79bb847",
   "metadata": {},
   "outputs": [
    {
     "name": "stdout",
     "output_type": "stream",
     "text": [
      "\n",
      "Check non-numeric values again:  0\n",
      "\n",
      "Check Missing values in Churn_Reason again:  0\n",
      "\n",
      "Check columns:  ['Count', 'Country', 'State', 'City', 'Zip_Code', 'Lat_Long', 'Latitude', 'Longitude', 'Gender', 'Senior_Citizen', 'Partner', 'Dependents', 'Tenure_Months', 'Phone_Service', 'Multiple_Lines', 'Internet_Service', 'Online_Security', 'Online_Backup', 'Device_Protection', 'Tech_Support', 'Streaming_TV', 'Streaming_Movies', 'Contract', 'Paperless_Billing', 'Payment_Method', 'Monthly_Charges', 'Total_Charges', 'Churn_Label', 'Churn_Value', 'Churn_Score', 'CLTV', 'Churn_Reason', 'TotalCharges_numeric', 'calc_total', 'total_diff']\n",
      "\n",
      "Duplicate rows: 0\n"
     ]
    }
   ],
   "source": [
    "# handling TotalCharges_numeric NaNs\n",
    "\n",
    "customer_churn_df['TotalCharges_numeric'] = customer_churn_df['TotalCharges_numeric'].fillna(0) # filling with 0, bcz these customers haven't paid any bill yet (new customer)\n",
    "print(\"\\nCheck non-numeric values again: \", customer_churn_df['TotalCharges_numeric'].isna().sum())\n",
    "\n",
    "\n",
    "# handling Churn_Reason col missing values\n",
    "\n",
    "customer_churn_df['Churn_Reason'] = customer_churn_df['Churn_Reason'].fillna(\"Not Applicable\") # missing for customers whose churn=0\n",
    "print(\"\\nCheck Missing values in Churn_Reason again: \",customer_churn_df['Churn_Reason'].isnull().sum())\n",
    "\n",
    "# dropping CustomerID - unique identifier, useless for ml\n",
    "\n",
    "customer_churn_df = customer_churn_df.drop(columns=['CustomerID'])\n",
    "print(\"\\nCheck columns: \", customer_churn_df.columns.tolist())\n",
    "\n",
    "# check duplicates\n",
    "\n",
    "print(\"\\nDuplicate rows:\", customer_churn_df.duplicated().sum())\n"
   ]
  },
  {
   "cell_type": "markdown",
   "id": "8bf078af",
   "metadata": {},
   "source": [
    "**After Data Cleaning**\n",
    "\n",
    "- **No non-numeric** values remain in **TotalCharges_numeric**. Missing entries were filled with **0**, as these customers are new and have not paid any bills yet.\n",
    "- **No missing values** are left in **Churn_Reason**. The missing entries were replaced with **\"Not Applicable\"**, since customers who have not churned naturally do not have a churn reason.\n",
    "- **CustomerID** column was **dropped** because it is just an identifier and does not provide any useful information for analysis or machine learning models.\n",
    "- **No duplicate rows** were found in the dataset."
   ]
  },
  {
   "cell_type": "markdown",
   "id": "db5678a6",
   "metadata": {},
   "source": [
    "**Target Variable Analysis**"
   ]
  },
  {
   "cell_type": "markdown",
   "id": "e521221a",
   "metadata": {},
   "source": [
    "**1. What is the churn rate (%)?**"
   ]
  },
  {
   "cell_type": "code",
   "execution_count": null,
   "id": "87108dcc",
   "metadata": {},
   "outputs": [
    {
     "name": "stdout",
     "output_type": "stream",
     "text": [
      "\n",
      "Churn Counts:\n",
      " Churn_Label\n",
      "No     5174\n",
      "Yes    1869\n",
      "Name: count, dtype: int64\n",
      "\n",
      "Churn Rate: 26.54%\n"
     ]
    },
    {
     "data": {
      "image/png": "[encoded data removed]",
      "text/plain": [
       "<Figure size 600x400 with 1 Axes>"
      ]
     },
     "metadata": {},
     "output_type": "display_data"
    }
   ],
   "source": [
    "churn_counts = customer_churn_df['Churn_Label'].value_counts()\n",
    "churn_rate = churn_counts['Yes'] / churn_counts.sum() * 100\n",
    "\n",
    "print(\"\\nChurn Counts:\\n\", churn_counts)\n",
    "print(f\"\\nChurn Rate: {churn_rate:.2f}%\")\n",
    "\n",
    "# Distribution of Churn (Yes/No)\n",
    "plt.figure(figsize=(6,4))\n",
    "sns.countplot(data=customer_churn_df, x='Churn_Label', hue='Churn_Label',palette='Set2',legend=False)\n",
    "plt.title(\"Churn Distribution\")\n",
    "plt.xlabel(\"Churn\")\n",
    "plt.ylabel(\"Count\")\n",
    "plt.show()\n"
   ]
  },
  {
   "cell_type": "markdown",
   "id": "fbd63cd3",
   "metadata": {},
   "source": [
    "**2. Is the target variable (Churn) balanced or imbalanced?**"
   ]
  },
  {
   "cell_type": "code",
   "execution_count": 229,
   "id": "4b46c105",
   "metadata": {},
   "outputs": [
    {
     "name": "stdout",
     "output_type": "stream",
     "text": [
      "\n",
      "Balance Status: Imbalanced (fewer churned customers)\n"
     ]
    }
   ],
   "source": [
    "if churn_rate < 30:\n",
    "    balance_status = \"Imbalanced (fewer churned customers)\"\n",
    "elif churn_rate > 70:\n",
    "    balance_status = \"Imbalanced (most customers churned)\"\n",
    "else:\n",
    "    balance_status = \"Fairly Balanced\"\n",
    "    \n",
    "print(f\"\\nBalance Status: {balance_status}\")"
   ]
  },
  {
   "cell_type": "markdown",
   "id": "bdafe67f",
   "metadata": {},
   "source": [
    "**3. Which churn value is more frequent?**"
   ]
  },
  {
   "cell_type": "code",
   "execution_count": 230,
   "id": "247c5ef5",
   "metadata": {},
   "outputs": [
    {
     "name": "stdout",
     "output_type": "stream",
     "text": [
      "Most Frequent (mode): No\n"
     ]
    }
   ],
   "source": [
    "most_frequent_churn_value = customer_churn_df['Churn_Label'].mode()[0]\n",
    "print(\"Most Frequent (mode):\", most_frequent_churn_value)"
   ]
  },
  {
   "cell_type": "markdown",
   "id": "89d99ffc",
   "metadata": {},
   "source": [
    "- Churn Rate = 26.54%\n",
    "- Imbalanced - (Yes = 26.5%, No = 73.5%)\n",
    "- Most frequent Value = No"
   ]
  },
  {
   "cell_type": "markdown",
   "id": "7eb908a5",
   "metadata": {},
   "source": [
    "**Univariate Analysis**"
   ]
  }
 ],
 "metadata": {
  "kernelspec": {
   "display_name": "Python 3",
   "language": "python",
   "name": "python3"
  },
  "language_info": {
   "codemirror_mode": {
    "name": "ipython",
    "version": 3
   },
   "file_extension": ".py",
   "mimetype": "text/x-python",
   "name": "python",
   "nbconvert_exporter": "python",
   "pygments_lexer": "ipython3",
   "version": "3.12.5"
  }
 },
 "nbformat": 4,
 "nbformat_minor": 5
}
